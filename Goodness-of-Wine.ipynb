{
 "cells": [
  {
   "cell_type": "code",
   "execution_count": 1,
   "metadata": {
    "collapsed": true
   },
   "outputs": [],
   "source": [
    "import pandas as pd\n",
    "import numpy as np\n",
    "import math \n",
    "\n",
    "df_train=pd.read_csv('ml_data/trainData.csv',header=None)\n",
    "df_test=pd.read_csv('ml_data/testData.csv',header=None)\n",
    "df_val_data=pd.read_csv('ml_data/valData.csv',header=None)\n",
    "df_val_label=pd.read_csv('ml_data/valLabels.csv',header=None)\n",
    "y_train=pd.read_csv('ml_data/trainLabels.csv',header=None)\n",
    "\n"
   ]
  },
  {
   "cell_type": "code",
   "execution_count": 2,
   "metadata": {
    "collapsed": true
   },
   "outputs": [],
   "source": [
    "def ridge_regression(X, y, lam):\n",
    "    \n",
    "    X=X.values[0:,1:] #5000*3000\n",
    "    \n",
    "    y=y.values[0:,1:] #5000*1 \n",
    "    \n",
    "    ones = np.ones(len(X),dtype=int)\n",
    "    X_bar = np.column_stack((X,ones))#5000*3001\n",
    "    X_bar_t = np.transpose(X_bar)# 3001*5000\n",
    "   \n",
    "    \n",
    "    d=np.dot(X_bar_t,y) #3001*1\n",
    "   \n",
    "    zeros=np.zeros(3000)\n",
    "    zeros_t=np.transpose(np.zeros(3001))\n",
    "    \n",
    "    I_mat=np.row_stack((np.identity(3000),zeros))\n",
    "    I_mat=np.column_stack((I_mat,zeros_t))\n",
    "    \n",
    "    lambda_identity = lam*I_mat#3001*3001\n",
    "    #C inverse\n",
    "    C_inv = np.linalg.inv(np.dot(X_bar_t, X_bar)+lambda_identity)\n",
    "    \n",
    "    w_bar = np.dot(C_inv,d )\n",
    "    \n",
    "    #weights\n",
    "    w=w_bar[0:3000,0:]\n",
    "    #bias\n",
    "    b=w_bar[3000:,0:]\n",
    "    \n",
    "    #cvErrs\n",
    "    cvErrs=pd.DataFrame([])\n",
    "    for i in range(5000):\n",
    "        num=np.dot(np.transpose(w_bar),X_bar[i,0:]) -y[i,0:]\n",
    "        den=1-np.dot((np.dot(np.transpose(X_bar[i,0:]),C_inv)),X_bar[i,0:])\n",
    "        temp=pd.DataFrame(num/den)\n",
    "        cvErrs=cvErrs.append(temp)\n",
    "    \n",
    "    #objective function\n",
    "    t1=lam*(np.matmul(np.transpose(w),w))\n",
    "    t2=np.dot(X_bar,w_bar)-y\n",
    "    obj=t1+np.dot(np.transpose(t2),t2)\n",
    " \n",
    "   \n",
    "    return w,b,obj,cvErrs\n",
    "\n",
    "\n",
    "\n",
    "\n",
    "\n"
   ]
  },
  {
   "cell_type": "code",
   "execution_count": 14,
   "metadata": {},
   "outputs": [
    {
     "data": {
      "image/png": "[encoded data removed]",
      "text/plain": [
       "<matplotlib.figure.Figure at 0x28a24cf5860>"
      ]
     },
     "metadata": {},
     "output_type": "display_data"
    },
    {
     "name": "stdout",
     "output_type": "stream",
     "text": [
      "[[ 1.01857712]]\n",
      "[[ 17200.94056872]]\n"
     ]
    },
    {
     "ename": "TypeError",
     "evalue": "'float' object is not subscriptable",
     "output_type": "error",
     "traceback": [
      "\u001b[1;31m---------------------------------------------------------------------------\u001b[0m",
      "\u001b[1;31mTypeError\u001b[0m                                 Traceback (most recent call last)",
      "\u001b[1;32m<ipython-input-14-3971e36700cd>\u001b[0m in \u001b[0;36m<module>\u001b[1;34m()\u001b[0m\n\u001b[0;32m     50\u001b[0m \u001b[0mprint\u001b[0m \u001b[1;33m(\u001b[0m\u001b[1;36m1\u001b[0m\u001b[1;33m*\u001b[0m\u001b[0mnp\u001b[0m\u001b[1;33m.\u001b[0m\u001b[0mdot\u001b[0m\u001b[1;33m(\u001b[0m\u001b[0mnp\u001b[0m\u001b[1;33m.\u001b[0m\u001b[0mtranspose\u001b[0m\u001b[1;33m(\u001b[0m\u001b[0mw\u001b[0m\u001b[1;33m)\u001b[0m\u001b[1;33m,\u001b[0m\u001b[0mw\u001b[0m\u001b[1;33m)\u001b[0m\u001b[1;33m)\u001b[0m\u001b[1;31m# regularization term\u001b[0m\u001b[1;33m\u001b[0m\u001b[0m\n\u001b[0;32m     51\u001b[0m \u001b[0mprint\u001b[0m \u001b[1;33m(\u001b[0m\u001b[0mobj_l\u001b[0m\u001b[1;33m[\u001b[0m\u001b[1;36m2\u001b[0m\u001b[1;33m]\u001b[0m\u001b[1;33m)\u001b[0m\u001b[1;31m# objective function value for lam=1\u001b[0m\u001b[1;33m\u001b[0m\u001b[0m\n\u001b[1;32m---> 52\u001b[1;33m \u001b[0mprint\u001b[0m \u001b[1;33m(\u001b[0m\u001b[0mrmse_train\u001b[0m\u001b[1;33m[\u001b[0m\u001b[1;36m2\u001b[0m\u001b[1;33m]\u001b[0m\u001b[1;33m)\u001b[0m\u001b[1;33m\u001b[0m\u001b[0m\n\u001b[0m\u001b[0;32m     53\u001b[0m \u001b[1;33m\u001b[0m\u001b[0m\n\u001b[0;32m     54\u001b[0m \u001b[1;31m# sub=pd.DataFrame(pred)\u001b[0m\u001b[1;33m\u001b[0m\u001b[1;33m\u001b[0m\u001b[0m\n",
      "\u001b[1;31mTypeError\u001b[0m: 'float' object is not subscriptable"
     ]
    }
   ],
   "source": [
    "# df_test=df_test.values[0:,1:]\n",
    "# pred=np.dot(df_test,w)+b\n",
    "from math import sqrt\n",
    "lam=0.01\n",
    "rmse_t=[]\n",
    "rmse_v=[]\n",
    "rmse_l=[]\n",
    "obj_l=[]\n",
    "for k in range (6):\n",
    "    w,b,obj,cvErrs=ridge_regression(df_train,y_train,(lam)*(10)**k)\n",
    "    pred_train=np.dot(df_train.values[0:,1:],w)+b\n",
    "    pred_val=np.dot(df_val_data.values[0:,1:],w)+b\n",
    "    obj_l.append(obj)\n",
    "    sum_l=0\n",
    "    sum_t=0\n",
    "    sum_v=0\n",
    "    for i in range(5000):\n",
    "        sum_l=sum_l+cvErrs.values[i]**2\n",
    "        sum_t=sum_t+(y_train.values[i,1:]-pred_train[i])**2\n",
    "        sum_v=sum_v+(df_val_label.values[i,1:]-pred_val[i])**2\n",
    "    \n",
    "    \n",
    "    \n",
    "    sum_t=(sum_t/5000)\n",
    "    sum_v=(sum_v/5000)\n",
    "    sum_l=(sum_l/5000)\n",
    "    \n",
    "  \n",
    "    rmse_train=sqrt(sum_t)\n",
    "    rmse_val=sqrt(sum_v)\n",
    "    rmse_loocv=sqrt(sum_l) \n",
    "    \n",
    "\n",
    "    \n",
    "    rmse_t.append(rmse_train)\n",
    "    rmse_v.append(rmse_val)\n",
    "    rmse_l.append(rmse_loocv)\n",
    "\n",
    "  \n",
    "import matplotlib.pyplot as p\n",
    "x_axis=[0.01,0.1,1,10,100,1000]\n",
    "p.plot(x_axis, rmse_t, label=\"Training\")\n",
    "p.plot(x_axis, rmse_v, label=\"Validation\")\n",
    "p.plot(x_axis, rmse_l, label=\"LOOCV\")\n",
    "p.legend()\n",
    "p.xlabel(\"Lambda\")\n",
    "p.ylabel(\"Errors\")\n",
    "p.show()\n",
    "\n",
    "print (1*np.dot(np.transpose(w),w))# regularization term\n",
    "print (obj_l[2])# objective function value for lam=1\n",
    "print (rmse_t[2])# sum of squared errors\n",
    "\n",
    "# sub=pd.DataFrame(pred)\n",
    "# sub.index.names = ['Id']\n",
    "# sub.to_csv(\"predTestLabels.csv\",header=['Prediction'])\n",
    "\n",
    "\n",
    " "
   ]
  },
  {
   "cell_type": "code",
   "execution_count": 16,
   "metadata": {},
   "outputs": [
    {
     "name": "stdout",
     "output_type": "stream",
     "text": [
      "[[ 1.01857712]]\n",
      "[[ 17200.94056872]]\n",
      "1.5780360753184544\n"
     ]
    }
   ],
   "source": [
    "\n",
    "print (1*np.dot(np.transpose(w),w))# regularization term\n",
    "print (obj_l[2])# objective function value for lam=1\n",
    "print (rmse_t[2])# sum of squared errors"
   ]
  },
  {
   "cell_type": "code",
   "execution_count": 279,
   "metadata": {},
   "outputs": [
    {
     "name": "stdout",
     "output_type": "stream",
     "text": [
      "[[1045]\n",
      " [2310]\n",
      " [  95]\n",
      " ..., \n",
      " [ 773]\n",
      " [ 754]\n",
      " [ 184]]\n",
      "Top Important Features :\n",
      "infused [[ 6.99895338]]\n",
      "pineapple orange [[ 5.66326052]]\n",
      "red [[ 5.63652345]]\n",
      "flavors nice [[ 5.28034641]]\n",
      "sweet black [[ 5.19472756]]\n",
      "little heavy [[ 5.12850509]]\n",
      "new french [[ 5.07889124]]\n",
      "future [[ 4.84825814]]\n",
      "currant cola [[ 4.78681932]]\n",
      "cocktail [[ 4.73595309]]\n",
      "Lest Important Features :\n",
      "offers\n",
      "light body\n",
      "highlights\n",
      "franc petit verdot\n",
      "framed\n",
      "tannins frame\n",
      "tannins finish\n",
      "sour\n",
      "flavors black cherry\n",
      "oakville\n"
     ]
    }
   ],
   "source": [
    "w=np.absolute(w)\n",
    "t=np.argsort(w, axis=0)\n",
    "\n",
    "\n",
    "file=open(\"ml_data/featureTypes.txt\",\"r\")\n",
    "features=[]\n",
    "for line in file:\n",
    "    features.append(line[:-1])\n",
    "print (\"Top Important Features :\")\n",
    "for i in range(10):\n",
    "    print (features[t[2999-i].item()],)\n",
    "print (\"Least Important Features :\")\n",
    "for i in range(10):\n",
    "    print (features[t[i].item()])"
   ]
  },
  {
   "cell_type": "code",
   "execution_count": null,
   "metadata": {
    "collapsed": true
   },
   "outputs": [],
   "source": []
  }
 ],
 "metadata": {
  "kernelspec": {
   "display_name": "Python 3",
   "language": "python",
   "name": "python3"
  },
  "language_info": {
   "codemirror_mode": {
    "name": "ipython",
    "version": 3
   },
   "file_extension": ".py",
   "mimetype": "text/x-python",
   "name": "python",
   "nbconvert_exporter": "python",
   "pygments_lexer": "ipython3",
   "version": "3.6.2"
  }
 },
 "nbformat": 4,
 "nbformat_minor": 2
}
